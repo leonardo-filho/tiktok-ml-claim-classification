{
 "cells": [
  {
   "cell_type": "markdown",
   "id": "cbadfb30",
   "metadata": {},
   "source": [
    "# 📊 Exploratory Data Analysis (EDA) - TikTok Claim Classification"
   ]
  },
  {
   "cell_type": "markdown",
   "id": "6c4042e9",
   "metadata": {},
   "source": [
    "This notebook explores the dataset used to classify TikTok video content as either **claim** or **opinion**. The goal is to understand feature distributions and relationships before building a machine learning model."
   ]
  },
  {
   "cell_type": "code",
   "execution_count": null,
   "id": "eb98c629",
   "metadata": {},
   "outputs": [],
   "source": [
    "import pandas as pd\n",
    "import matplotlib.pyplot as plt\n",
    "import seaborn as sns\n",
    "\n",
    "# Load dataset\n",
    "df = pd.read_csv('../data/sample_data.csv')\n",
    "df.head()"
   ]
  },
  {
   "cell_type": "markdown",
   "id": "5e5647ed",
   "metadata": {},
   "source": [
    "## 🔍 Data Overview"
   ]
  },
  {
   "cell_type": "code",
   "execution_count": null,
   "id": "83d756be",
   "metadata": {},
   "outputs": [],
   "source": [
    "df.info()"
   ]
  },
  {
   "cell_type": "markdown",
   "id": "6265d251",
   "metadata": {},
   "source": [
    "## 📈 Basic Statistics"
   ]
  },
  {
   "cell_type": "code",
   "execution_count": null,
   "id": "1f414d94",
   "metadata": {},
   "outputs": [],
   "source": [
    "df.describe()"
   ]
  },
  {
   "cell_type": "markdown",
   "id": "06799845",
   "metadata": {},
   "source": [
    "## 🎯 Label Distribution"
   ]
  },
  {
   "cell_type": "code",
   "execution_count": null,
   "id": "00580bf1",
   "metadata": {},
   "outputs": [],
   "source": [
    "sns.countplot(data=df, x='label')\n",
    "plt.title('Distribution of Labels')\n",
    "plt.show()"
   ]
  },
  {
   "cell_type": "markdown",
   "id": "e4ea4626",
   "metadata": {},
   "source": [
    "## 📊 Feature Distributions"
   ]
  },
  {
   "cell_type": "code",
   "execution_count": null,
   "id": "387859e4",
   "metadata": {},
   "outputs": [],
   "source": [
    "num_cols = ['likes', 'comments', 'shares', 'duration_sec']\n",
    "df[num_cols].hist(bins=20, figsize=(12, 8))\n",
    "plt.suptitle('Numerical Feature Distributions')\n",
    "plt.show()"
   ]
  },
  {
   "cell_type": "markdown",
   "id": "af5a3a71",
   "metadata": {},
   "source": [
    "## 🔗 Correlation Heatmap"
   ]
  },
  {
   "cell_type": "code",
   "execution_count": null,
   "id": "10ef12b3",
   "metadata": {},
   "outputs": [],
   "source": [
    "sns.heatmap(df[num_cols + ['contains_hashtag_claim', 'contains_fact_check_words']].corr(), annot=True, cmap='coolwarm')\n",
    "plt.title('Correlation Heatmap')\n",
    "plt.show()"
   ]
  }
 ],
 "metadata": {},
 "nbformat": 4,
 "nbformat_minor": 5
}