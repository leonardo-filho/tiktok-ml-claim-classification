{
 "cells": [
  {
   "cell_type": "markdown",
   "id": "4cd6d377",
   "metadata": {},
   "source": [
    "# 🤖 Machine Learning Model - TikTok Claim Classification"
   ]
  },
  {
   "cell_type": "markdown",
   "id": "9af10eec",
   "metadata": {},
   "source": [
    "This notebook builds a classification model to predict whether a TikTok video is a **claim** or an **opinion** based on various features."
   ]
  },
  {
   "cell_type": "code",
   "execution_count": null,
   "id": "f529c81d",
   "metadata": {},
   "outputs": [],
   "source": [
    "import pandas as pd\n",
    "from sklearn.model_selection import train_test_split\n",
    "from sklearn.ensemble import RandomForestClassifier\n",
    "from sklearn.metrics import classification_report, confusion_matrix\n",
    "from sklearn.preprocessing import LabelEncoder\n",
    "\n",
    "# Load dataset\n",
    "df = pd.read_csv('../data/sample_data.csv')\n",
    "df.head()"
   ]
  },
  {
   "cell_type": "markdown",
   "id": "4a561472",
   "metadata": {},
   "source": [
    "## 🔧 Preprocessing"
   ]
  },
  {
   "cell_type": "code",
   "execution_count": null,
   "id": "3471b6bb",
   "metadata": {},
   "outputs": [],
   "source": [
    "# Convert categorical label to numeric\n",
    "le = LabelEncoder()\n",
    "df['label_encoded'] = le.fit_transform(df['label'])\n",
    "\n",
    "# Features and target\n",
    "features = ['likes', 'comments', 'shares', 'duration_sec', 'contains_hashtag_claim', 'contains_fact_check_words']\n",
    "X = df[features]\n",
    "y = df['label_encoded']\n",
    "\n",
    "# Train-test split\n",
    "X_train, X_test, y_train, y_test = train_test_split(X, y, test_size=0.2, random_state=42)"
   ]
  },
  {
   "cell_type": "markdown",
   "id": "83a15b39",
   "metadata": {},
   "source": [
    "## 🧠 Model Training"
   ]
  },
  {
   "cell_type": "code",
   "execution_count": null,
   "id": "d7a6345d",
   "metadata": {},
   "outputs": [],
   "source": [
    "model = RandomForestClassifier(n_estimators=100, random_state=42)\n",
    "model.fit(X_train, y_train)\n",
    "y_pred = model.predict(X_test)"
   ]
  },
  {
   "cell_type": "markdown",
   "id": "8923b9f9",
   "metadata": {},
   "source": [
    "## 📊 Evaluation"
   ]
  },
  {
   "cell_type": "code",
   "execution_count": null,
   "id": "333eb983",
   "metadata": {},
   "outputs": [],
   "source": [
    "print(confusion_matrix(y_test, y_pred))\n",
    "print(classification_report(y_test, y_pred, target_names=le.classes_))"
   ]
  }
 ],
 "metadata": {},
 "nbformat": 4,
 "nbformat_minor": 5
}